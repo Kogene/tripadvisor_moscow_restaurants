{
 "cells": [
  {
   "cell_type": "markdown",
   "metadata": {},
   "source": [
    "# Модель"
   ]
  },
  {
   "cell_type": "code",
   "execution_count": null,
   "metadata": {},
   "outputs": [],
   "source": [
    "import pandas as pd\n",
    "from sklearn.ensemble import RandomForestClassifier\n",
    "import sklearn.metrics as metrics\n",
    "import numpy as np\n",
    "\n",
    "rests = pd.read_csv('rests.csv')\n",
    "\n",
    "X = np.asarray(rests.values[::,3:5], dtype=\"|S6\")\n",
    "y = np.asarray(rests.values[::,5], dtype=\"|S6\")\n",
    "\n",
    "clf = RandomForestClassifier(n_estimators=50, n_jobs=-1)\n",
    "\n",
    "clf.fit(X,y)\n",
    "\n",
    "y_pred = clf.predict(X)\n",
    "\n",
    "a = metrics.accuracy_score (y, y_pred)\n",
    "p = metrics.precision_score (y, y_pred, average=\"macro\")\n",
    "r = metrics.recall_score (y, y_pred, average=\"macro\")\n",
    "f1 = metrics.f1_score (y, y_pred, average=\"macro\")\n",
    "\n",
    "print ('accuracy: {} | precision: {} | recall: {} | f1: {}'.format (a,p,r,f1))"
   ]
  }
 ],
 "metadata": {
  "kernelspec": {
   "display_name": "Python 3",
   "language": "python",
   "name": "python3"
  },
  "language_info": {
   "codemirror_mode": {
    "name": "ipython",
    "version": 3
   },
   "file_extension": ".py",
   "mimetype": "text/x-python",
   "name": "python",
   "nbconvert_exporter": "python",
   "pygments_lexer": "ipython3",
   "version": "3.6.5"
  }
 },
 "nbformat": 4,
 "nbformat_minor": 2
}
