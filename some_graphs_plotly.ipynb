{
 "cells": [
  {
   "cell_type": "markdown",
   "metadata": {},
   "source": [
    "# Графики\n",
    "## Сначала импортируем необходимые инструменты"
   ]
  },
  {
   "cell_type": "code",
   "execution_count": null,
   "metadata": {},
   "outputs": [],
   "source": [
    "import pandas as pd\n",
    "import numpy as np\n",
    "\n",
    "# Отключим предупреждения от Anaconda\n",
    "import warnings\n",
    "warnings.simplefilter('ignore')\n",
    "\n",
    "%pylab inline\n",
    "# Зададим стандартный размер фигур\n",
    "from pylab import rcParams\n",
    "rcParams['figure.figsize'] = 8, 5\n",
    "\n",
    "import seaborn as sns # Seaborn\n",
    "\n",
    "import matplotlib.pyplot as plt # Matplotlib\n",
    "%matplotlib inline\n",
    "# Графики в svg более четкие\n",
    "%config InlineBackend.figure_format = 'svg' \n",
    "\n",
    "import plotly # Plotly\n",
    "import plotly.graph_objs as go\n",
    "from plotly.offline import download_plotlyjs, init_notebook_mode, plot, iplot\n",
    "\n",
    "init_notebook_mode(connected=True)"
   ]
  },
  {
   "cell_type": "code",
   "execution_count": null,
   "metadata": {},
   "outputs": [],
   "source": [
    "df = pd.read_csv('rests.csv', index_col=0)\n",
    "\n",
    "df.info()\n",
    "df.head()"
   ]
  },
  {
   "cell_type": "markdown",
   "metadata": {},
   "source": [
    "# Оставим записи, в которых нет пропусков, используя метод dropna"
   ]
  },
  {
   "cell_type": "code",
   "execution_count": null,
   "metadata": {},
   "outputs": [],
   "source": [
    "df = df.dropna()\n",
    "print (df.shape)"
   ]
  },
  {
   "cell_type": "markdown",
   "metadata": {},
   "source": [
    "# 1. Какой средний чек встречается чаще всего?"
   ]
  },
  {
   "cell_type": "code",
   "execution_count": null,
   "metadata": {},
   "outputs": [],
   "source": [
    "df[\"average check\"].value_counts().plot(kind = 'pie', label = '')\n",
    "plt.title('Средний чек')"
   ]
  },
  {
   "cell_type": "markdown",
   "metadata": {},
   "source": [
    "# 2. Какие кухни наиболее популярны в Москве?\n",
    "## Нужно помнить, что каждый ресторан может принадлежать к нескольким кухням"
   ]
  },
  {
   "cell_type": "code",
   "execution_count": null,
   "metadata": {},
   "outputs": [],
   "source": [
    "# str to list\n",
    "if type(df['cuisines'][0]) is not list :\n",
    "    df['cuisines'] = df['cuisines'].apply(lambda x: x.split(','))\n",
    "\n",
    "df_as_list = df.to_dict(orient='records')\n",
    "\n",
    "cuisines_data = []\n",
    "\n",
    "'''\n",
    "Распарсим столбец cuisines. \n",
    "Например: Чайхона №1 [Узбекская, Кавказская] => Чайхона №1 Узбекская\n",
    "                                             => Чайхона №1 Кавказская\n",
    "'''\n",
    "for record in df_as_list:\n",
    "    for cuisine in record['cuisines']:\n",
    "        copy = record.copy()\n",
    "        copy['cuisine'] = cuisine\n",
    "        cuisines_data.append(copy)\n",
    "        \n",
    "cuisines_df = pd.DataFrame.from_dict(cuisines_data)\n",
    "\n",
    "# Подсчитаем кол-во ресторанов и суммарное кол-во отзывов на каждом направлении кухни.\n",
    "top10 = cuisines_df.groupby('cuisine')[['restaurant']].count().join(\n",
    "    cuisines_df.groupby('cuisine')[['number of reviews']].sum())\n",
    "\n",
    "top10 = top10.sort_values('restaurant', ascending = False).head(10)\n",
    "\n",
    "# Создадим линии для визуализации.\n",
    "trace1 = go.Scatter(x = top10.index, y = top10.restaurant, name = 'Кол-во ресторанов')\n",
    "\n",
    "trace2 = go.Bar(x = top10.index, y = top10['number of reviews']/1000, name = 'Кол-во отзывов, тыс.')\n",
    "\n",
    "data = [trace1, trace2]\n",
    "\n",
    "layout = go.Layout(title = 'Топ 10 популярных направлений в ресторанах')\n",
    "\n",
    "fig = go.Figure(data = data, layout = layout)\n",
    "\n",
    "iplot (fig, show_link = False)\n"
   ]
  },
  {
   "cell_type": "markdown",
   "metadata": {},
   "source": [
    "# 3. Есть ли различия в оценках в зависимости от кухни ресторана?"
   ]
  },
  {
   "cell_type": "code",
   "execution_count": null,
   "metadata": {},
   "outputs": [],
   "source": [
    "# Список для итерирования\n",
    "top10_list = top10.index.values.tolist()\n",
    "\n",
    "data = []\n",
    "\n",
    "for i in top10_list:\n",
    "    data.append({'y': cuisines_df[cuisines_df['cuisine'] == i][\"user's rating\"], 'type': 'box', 'name': i}) \n",
    "\n",
    "layout = {'title': 'Топ 10. Оценки по кухням', 'yaxis': {'title': 'Оценка на TripAdvisor'}}\n",
    "    \n",
    "fig = go.Figure(data = data, layout = layout)\n",
    "    \n",
    "iplot(fig, show_link = False)"
   ]
  },
  {
   "cell_type": "markdown",
   "metadata": {},
   "source": [
    "# 4. Чем дороже, тем больше рейтинг?"
   ]
  },
  {
   "cell_type": "code",
   "execution_count": null,
   "metadata": {},
   "outputs": [],
   "source": [
    "top10_list = top10.index.values.tolist()\n",
    "\n",
    "cuisine_check_rating_df = cuisines_df.groupby(['cuisine', 'average check'], as_index= False)[\"user's rating\"].mean()\n",
    "\n",
    "data = []\n",
    "\n",
    "# Добавляем в data все нужные линии (Европейская, Итальянская и т.д.)\n",
    "\n",
    "for cuisine in top10_list:\n",
    "    tmp_df = cuisine_check_rating_df[cuisine_check_rating_df['cuisine'] == cuisine]\n",
    "    trace = go.Bar(x = tmp_df[\"user's rating\"], y = tmp_df['average check'], name = cuisine)\n",
    "    data.append(trace)\n",
    "    \n",
    "# Создаем выпадающее меню\n",
    "    \n",
    "drop_menu = []\n",
    "    \n",
    "N = len(top10_list)    \n",
    "\n",
    "for i in range(N):\n",
    "    drop_menu.append(dict(\n",
    "        args=['visible', [False]*i + [True] + [False]*(N-1-i)],\n",
    "        label= top10_list[i],\n",
    "        method='restyle'))\n",
    "    \n",
    "layout = go.Layout(\n",
    "    title = 'Топ 10. Чек - Рейтинг',\n",
    "    updatemenus = list([dict(x = 0.1, y = 1.2, buttons = drop_menu)]),\n",
    "    yaxis = {'title': 'Средний чек'},\n",
    "    xaxis = {'title': 'Рейтинг'}\n",
    ")\n",
    "\n",
    "fig = go.Figure(data = data, layout = layout)\n",
    "\n",
    "iplot (fig, show_link = False)\n"
   ]
  },
  {
   "cell_type": "markdown",
   "metadata": {},
   "source": [
    "# 5. Какие кухни чаще всего оказываются рядом?"
   ]
  },
  {
   "cell_type": "code",
   "execution_count": null,
   "metadata": {},
   "outputs": [],
   "source": [
    "# Прибавляем единицу при совпадении\n",
    "\n",
    "close_cuisines = {}\n",
    "\n",
    "for cuisines_list in df.cuisines:\n",
    "    for i in cuisines_list:\n",
    "        if i not in close_cuisines:\n",
    "            close_cuisines[i] = {}\n",
    "        for j in cuisines_list:\n",
    "            if j not in close_cuisines[i]:\n",
    "                close_cuisines[i][j] = 0\n",
    "            close_cuisines[i][j] += 1\n",
    "\n",
    "# Используя defaultdict            \n",
    "'''\n",
    "from collections import defaultdict\n",
    "\n",
    "for cuisines_list in df.cuisines:\n",
    "    for i in cuisines_list:\n",
    "        if i not in closeee_cuisines:\n",
    "            closeee_cuisines[i] = defaultdict(int)\n",
    "        for j in cuisines_list:\n",
    "            closeee_cuisines[i][j] += 1\n",
    "'''\n",
    "# Создаем датафрейм и заполняем пропуски нулями\n",
    "close_cuisines_df = pd.DataFrame.from_dict(close_cuisines).fillna(0)\n",
    "\n",
    "#Отнормируем\n",
    "close_cuisines_df_norm = close_cuisines_df.apply(lambda x: x / cuisines_df.groupby('cuisine').restaurant.count(), axis = 1)\n",
    "\n",
    "# Создаем линию для визуализации\n",
    "trace = go.Heatmap(x = close_cuisines_df_norm.columns,\n",
    "                   y = close_cuisines_df_norm.index.values,\n",
    "                   z = close_cuisines_df_norm.values)\n",
    "\n",
    "layout = go.Layout(title = '% ресторанов кухни X также имеют тег Y')\n",
    "\n",
    "fig = go.Figure(data = [trace], layout = layout)\n",
    "\n",
    "iplot (fig, show_link = False)"
   ]
  }
 ],
 "metadata": {
  "kernelspec": {
   "display_name": "Python 3",
   "language": "python",
   "name": "python3"
  },
  "language_info": {
   "codemirror_mode": {
    "name": "ipython",
    "version": 3
   },
   "file_extension": ".py",
   "mimetype": "text/x-python",
   "name": "python",
   "nbconvert_exporter": "python",
   "pygments_lexer": "ipython3",
   "version": "3.6.5"
  }
 },
 "nbformat": 4,
 "nbformat_minor": 2
}
